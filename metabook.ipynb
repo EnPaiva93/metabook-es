{
  "nbformat": 4,
  "nbformat_minor": 0,
  "metadata": {
    "colab": {
      "provenance": [],
      "authorship_tag": "ABX9TyPLbcmZIAdfGt1CF4+ivhd2",
      "include_colab_link": true
    },
    "kernelspec": {
      "name": "python3",
      "display_name": "Python 3"
    },
    "language_info": {
      "name": "python"
    }
  },
  "cells": [
    {
      "cell_type": "markdown",
      "metadata": {
        "id": "view-in-github",
        "colab_type": "text"
      },
      "source": [
        "<a href=\"https://colab.research.google.com/github/EnPaiva93/tume/blob/colab/metabook.ipynb\" target=\"_parent\"><img src=\"https://colab.research.google.com/assets/colab-badge.svg\" alt=\"Open In Colab\"/></a>"
      ]
    },
    {
      "cell_type": "markdown",
      "source": [
        "# Hackathon Latin America 2024"
      ],
      "metadata": {
        "id": "dpVMA5R7jA3X"
      }
    },
    {
      "cell_type": "code",
      "source": [],
      "metadata": {
        "id": "cEZGQlMGR_5O"
      },
      "execution_count": null,
      "outputs": []
    },
    {
      "cell_type": "code",
      "source": [],
      "metadata": {
        "id": "Tx-xIpTHSAP9"
      },
      "execution_count": null,
      "outputs": []
    },
    {
      "cell_type": "markdown",
      "source": [
        "## Prompts"
      ],
      "metadata": {
        "id": "7_4n36vrSAkH"
      }
    },
    {
      "cell_type": "code",
      "source": [
        "generation_prompt = \"\"\"Usted es un escritor de podcast educativo de clase mundial, especializado en crear conversaciones atractivas y educativas sobre diversos temas. Su tarea es generar un diálogo de podcast entre dos oradores sobre el siguiente tema:\n",
        "\n",
        "\n",
        "<tema>\n",
        "\n",
        "{topic}\n",
        "\n",
        "</tema>\n",
        "\n",
        "\n",
        "Antes de comenzar el diálogo, planifique la estructura de la conversación dentro de las etiquetas <planificacion_podcast>. En esta sección:\n",
        "\n",
        "\n",
        "1. Divida el tema en 3-5 subtemas principales para cubrir durante la conversación.\n",
        "\n",
        "2. Para cada subtema, anote:\n",
        "\n",
        "   - Una pregunta clave que el Orador 2 podría hacer.\n",
        "\n",
        "   - Un punto principal que el Orador 1 debería explicar.\n",
        "\n",
        "   - Una posible anécdota o analogía que el Orador 1 podría usar para ilustrar el punto.\n",
        "\n",
        "   - 1-2 potenciales tangentes interesantes o preguntas inusuales que el Orador 2 podría plantear.\n",
        "\n",
        "3. Planifique una introducción atractiva y una conclusión que resuma los puntos clave.\n",
        "\n",
        "4. Sugiera 2-3 lugares donde el Orador 2 podría expresar confusión o pedir aclaraciones.\n",
        "\n",
        "5. Planifique transiciones específicas entre cada subtema para mantener un flujo natural de la conversación.\n",
        "\n",
        "\n",
        "Es aceptable que esta sección sea bastante larga para asegurar una planificación detallada.\n",
        "\n",
        "\n",
        "Después de planificar la estructura, genere el diálogo siguiendo estas instrucciones:\n",
        "\n",
        "\n",
        "1. Formato del diálogo:\n",
        "\n",
        "   - Use \"Orador 1:\" y \"Orador 2:\" para indicar quién está hablando.\n",
        "\n",
        "   - Incluya interrupciones naturales, como \"ahh\", \"esss\", \"correcto\", etc.\n",
        "\n",
        "   - No incluya títulos de episodios o capítulos separados.\n",
        "\n",
        "\n",
        "2. Roles de los oradores:\n",
        "\n",
        "   - Orador 1: Experto que dirige la conversación. Debe ser un profesor cautivador que ofrece explicaciones claras, anécdotas interesantes y analogías efectivas.\n",
        "\n",
        "   - Orador 2: Aprendiz curioso que mantiene el hilo de la conversación haciendo preguntas de seguimiento. Debe mostrar entusiasmo y ocasionalmente confusión, haciendo preguntas de confirmación interesantes.\n",
        "\n",
        "\n",
        "3. Estructura de la conversación:\n",
        "\n",
        "   - Comience con una bienvenida atractiva y un resumen del tema por parte del Orador 1.\n",
        "\n",
        "   - El Orador 2 debe hacer preguntas relevantes y ocasionalmente ir por tangentes interesantes o inusuales.\n",
        "\n",
        "   - El Orador 1 debe responder con explicaciones claras, utilizando anécdotas y analogías para ilustrar los puntos.\n",
        "\n",
        "   - Mantenga un equilibrio entre la información educativa y el entretenimiento.\n",
        "\n",
        "\n",
        "4. Contenido:\n",
        "\n",
        "   - Asegúrese de que la conversación se mantenga centrada en el tema principal, aunque se permiten breves desvíos.\n",
        "\n",
        "   - Incluya datos precisos y actualizados sobre el tema.\n",
        "\n",
        "   - Use ejemplos del mundo real para hacer el contenido más relatable y comprensible.\n",
        "\n",
        "\n",
        "5. Tono:\n",
        "\n",
        "   - Mantenga un tono educativo pero accesible y amigable.\n",
        "\n",
        "   - La conversación debe ser informativa pero también entretenida y atractiva para el oyente.\n",
        "\n",
        "   - Los oradores son mujeres.\n",
        "\n",
        "\n",
        "Presente su respuesta en el siguiente formato:\n",
        "\n",
        "\n",
        "<resultado>\n",
        "\n",
        "[Escriba aquí el resultado del tema de forma estructurada como wikipedia]\n",
        "\n",
        "</resultado>\n",
        "\n",
        "\n",
        "<dialogo>\n",
        "\n",
        "[Inserte aquí el diálogo completo del podcast, comenzando directamente con el Orador 1 dando la bienvenida a los oyentes]\n",
        "\n",
        "</dialogo>\n",
        "\n",
        "\n",
        "Asegúrese de que el diálogo refleje la estructura planificada y cumpla con todas las instrucciones proporcionadas.\"\"\""
      ],
      "metadata": {
        "id": "ECyolidmSDRL"
      },
      "execution_count": 107,
      "outputs": []
    },
    {
      "cell_type": "markdown",
      "source": [
        "## General"
      ],
      "metadata": {
        "id": "rFH0qf2-1l8X"
      }
    },
    {
      "cell_type": "code",
      "source": [
        "import nest_asyncio\n",
        "nest_asyncio.apply()"
      ],
      "metadata": {
        "id": "9sK102g7SbmO"
      },
      "execution_count": 56,
      "outputs": []
    },
    {
      "cell_type": "code",
      "source": [
        "%%capture\n",
        "!pip install groq streamlit ffmpeg-python gTTS pymupdf4llm pydub TTS"
      ],
      "metadata": {
        "id": "HiwlRNi11lwk"
      },
      "execution_count": 57,
      "outputs": []
    },
    {
      "cell_type": "code",
      "source": [
        "# %%capture\n",
        "# !pip install TTS"
      ],
      "metadata": {
        "id": "75ndhVYPbJvA"
      },
      "execution_count": 58,
      "outputs": []
    },
    {
      "cell_type": "code",
      "source": [
        "# %%capture\n",
        "# !pip install llama_index llama-index-embeddings-huggingface"
      ],
      "metadata": {
        "id": "m5QRpXh5Mi0K"
      },
      "execution_count": null,
      "outputs": []
    },
    {
      "cell_type": "code",
      "source": [
        "# %%capture\n",
        "# !pip install llama-index-vector-stores-chroma llama-index-llms-groq"
      ],
      "metadata": {
        "id": "yYLNTpGnlovH"
      },
      "execution_count": null,
      "outputs": []
    },
    {
      "cell_type": "code",
      "source": [
        "# %%capture\n",
        "# !pip install llama-index-llms-sambanovacloud\n",
        "# !pip install sseclient-py"
      ],
      "metadata": {
        "id": "gyjX1fe7QOXE"
      },
      "execution_count": null,
      "outputs": []
    },
    {
      "cell_type": "code",
      "source": [
        "%%capture\n",
        "!npm install localtunnel"
      ],
      "metadata": {
        "id": "NPKNLd1k4WDp"
      },
      "execution_count": 59,
      "outputs": []
    },
    {
      "cell_type": "code",
      "source": [
        "# %%capture\n",
        "# %pip install llama-index-embeddings-openvino"
      ],
      "metadata": {
        "id": "3L25x5xyC495"
      },
      "execution_count": null,
      "outputs": []
    },
    {
      "cell_type": "code",
      "source": [
        "# %%capture\n",
        "# %pip install llama-index-retrievers-bm25"
      ],
      "metadata": {
        "id": "e3BF35RbIW4U"
      },
      "execution_count": null,
      "outputs": []
    },
    {
      "cell_type": "code",
      "source": [
        "from google.colab import userdata"
      ],
      "metadata": {
        "id": "5icSSYfRMOiB"
      },
      "execution_count": 4,
      "outputs": []
    },
    {
      "cell_type": "code",
      "source": [
        "GROQ_API_KEY = userdata.get('GROQ_API_KEY')\n",
        "SAMBANOVA_API_KEY = userdata.get('SAMBANOVA_API_KEY')"
      ],
      "metadata": {
        "id": "UXW3YyfJKMru"
      },
      "execution_count": 5,
      "outputs": []
    },
    {
      "cell_type": "code",
      "source": [
        "# from llama_index.embeddings.huggingface_openvino import OpenVINOEmbedding\n",
        "\n",
        "# OpenVINOEmbedding.create_and_save_openvino_model(\n",
        "#     \"sentence-transformers/all-MiniLM-L6-v2\", \"./models\"\n",
        "# )"
      ],
      "metadata": {
        "id": "95TInRCEDDL2"
      },
      "execution_count": null,
      "outputs": []
    },
    {
      "cell_type": "code",
      "source": [
        "# import os\n",
        "# from llama_index.embeddings.huggingface import HuggingFaceEmbedding\n",
        "# from llama_index.llms.groq import Groq\n",
        "# from sentence_transformers import SentenceTransformer\n",
        "# from llama_index.core import Settings\n",
        "\n",
        "# # model = SentenceTransformer(\"sentence-transformers/all-MiniLM-L6-v2\", device = \"cpu\", backend=\"openvino\")\n",
        "# # model.save_pretrained(\"path/to/my/model\")\n",
        "\n",
        "# Settings.embed_model = OpenVINOEmbedding(model_id_or_path=\"./models\", device=\"cpu\")\n",
        "\n",
        "# if not os.getenv(\"SAMBANOVA_API_KEY\"):\n",
        "#     os.environ[\"SAMBANOVA_API_KEY\"] = SAMBANOVA_API_KEY\n",
        "\n",
        "# # Settings.llm = SambaNovaCloud(\n",
        "# #     model=\"Meta-Llama-3.1-70B-Instruct\",\n",
        "# #     max_tokens=1024,\n",
        "# #     temperature=0.7,\n",
        "# #     top_k=1,\n",
        "# #     top_p=0.01,\n",
        "# # )\n",
        "\n",
        "# Settings.llm = Groq(model=\"llama3-70b-8192\", api_key=GROQ_API_KEY)"
      ],
      "metadata": {
        "id": "Z_FKAtj8v-Bo"
      },
      "execution_count": null,
      "outputs": []
    },
    {
      "cell_type": "markdown",
      "source": [
        "## Utils"
      ],
      "metadata": {
        "id": "FBQ4bzmq1Ufq"
      }
    },
    {
      "cell_type": "code",
      "source": [
        "import io\n",
        "\n",
        "def bytesio_to_ogg(input_bytesio: io.BytesIO, input_format: str = \"wav\", output_file: str = \"temp.ogg\"):\n",
        "    \"\"\"\n",
        "    Convert audio data from a BytesIO object to an OGG file using ffmpeg-python.\n",
        "\n",
        "    Args:\n",
        "        input_bytesio (BytesIO): The input audio data as a BytesIO object.\n",
        "        output_file (str): The path to save the converted OGG file.\n",
        "    \"\"\"\n",
        "    # Reset the BytesIO pointer to the start\n",
        "    input_bytesio.seek(0)\n",
        "\n",
        "    # Use ffmpeg to read from BytesIO and write to an OGG file\n",
        "    process = (\n",
        "        ffmpeg\n",
        "        .input('pipe:0', format=input_format)  # Adjust format if input is not WAV\n",
        "        .output(\n",
        "            output_file,\n",
        "            format='ogg',\n",
        "            acodec='libopus',  # Correct codec for OGG\n",
        "            ac=1,              # Mono audio\n",
        "            b='12k',           # Correct option for bitrate\n",
        "            application='voip' # Libopus-specific option\n",
        "        )\n",
        "        .overwrite_output()\n",
        "        .run_async(pipe_stdin=True, pipe_stdout=True, pipe_stderr=True)\n",
        "    )\n",
        "\n",
        "    # Send BytesIO content to FFmpeg and capture any errors\n",
        "    stdout, stderr = process.communicate(input=input_bytesio.read())\n",
        "\n",
        "    if process.returncode != 0:\n",
        "        raise RuntimeError(f\"ffmpeg failed: {stderr.decode('utf-8')}\")\n",
        "\n",
        "    print(f\"Converted to OGG: {output_file}\")\n",
        "\n",
        "# Función para extraer contenido entre etiquetas específicas\n",
        "def extraer_contenido(texto, etiqueta):\n",
        "    \"\"\"\n",
        "    Extrae contenido encerrado dentro de etiquetas HTML/XML específicas en un texto.\n",
        "\n",
        "    Args:\n",
        "        texto (str): El texto fuente que contiene las etiquetas.\n",
        "        etiqueta (str): La etiqueta de la que se quiere extraer el contenido.\n",
        "\n",
        "    Returns:\n",
        "        list: Lista con el contenido encontrado entre las etiquetas.\n",
        "    \"\"\"\n",
        "    patron = fr\"<{etiqueta}>(.*?)</{etiqueta}>\"\n",
        "    return re.findall(patron, texto, re.DOTALL)\n",
        "\n",
        "# Función para procesar los diálogos de dos oradores\n",
        "def procesar_dialogos(dialogo):\n",
        "    \"\"\"\n",
        "    Procesa un bloque de texto para separar los diálogos de Orador 1 y Orador 2.\n",
        "\n",
        "    Args:\n",
        "        dialogo (str): Texto fuente que contiene los diálogos.\n",
        "\n",
        "    Returns:\n",
        "        tuple: Dos listas con los diálogos de Orador 1 y Orador 2, respectivamente.\n",
        "    \"\"\"\n",
        "    # Patrones para extraer diálogos de Orador 1 y Orador 2\n",
        "    orador1_patron = r\"Orador 1: (.*?)(?=(Orador 2:|$))\"\n",
        "    orador2_patron = r\"Orador 2: (.*?)(?=(Orador 1:|$))\"\n",
        "\n",
        "    # Encontrar diálogos y limpiar espacios\n",
        "    orador1_dialogos = [d[0].strip() for d in re.findall(orador1_patron, dialogo, re.DOTALL)]\n",
        "    orador2_dialogos = [d[0].strip() for d in re.findall(orador2_patron, dialogo, re.DOTALL)]\n",
        "\n",
        "    return orador1_dialogos, orador2_dialogos"
      ],
      "metadata": {
        "id": "HzQewFbMkFrH"
      },
      "execution_count": 64,
      "outputs": []
    },
    {
      "cell_type": "markdown",
      "source": [
        "## Input"
      ],
      "metadata": {
        "id": "LKHBFDM2z8vW"
      }
    },
    {
      "cell_type": "code",
      "source": [
        "# Librería\n",
        "import uuid\n",
        "import os, io, subprocess, ffmpeg\n",
        "from groq import Groq\n",
        "\n",
        "from pydantic import BaseModel, ConfigDict, Field"
      ],
      "metadata": {
        "id": "cAoDWJxt-1r5"
      },
      "execution_count": 61,
      "outputs": []
    },
    {
      "cell_type": "code",
      "source": [
        "class Audio(BaseModel):\n",
        "    audio_bytes: io.BytesIO\n",
        "    id: str = Field(default=str(uuid.uuid4()))\n",
        "    audio_path: str = Field(default=None)\n",
        "    input_format: str = Field(default=\"wav\")\n",
        "    output_format: str = Field(default=\"ogg\")\n",
        "\n",
        "    def __init__(self, **data):\n",
        "        super().__init__(**data)\n",
        "        self.convert_to_ogg()\n",
        "        self.audio_path=self.id+\".\"+self.output_format\n",
        "\n",
        "    class Config:\n",
        "        arbitrary_types_allowed = True\n",
        "\n",
        "    def convert_to_ogg(self):\n",
        "        \"\"\"\n",
        "        Generar el audio temporal en formato ogg\n",
        "        \"\"\"\n",
        "        output_file=self.id+\".\"+self.output_format\n",
        "        self.audio_bytes.seek(0)\n",
        "        bytesio_to_ogg(self.audio_bytes, self.input_format, output_file)\n",
        "\n",
        "class STT(BaseModel):\n",
        "  client: Groq = None\n",
        "\n",
        "  class Config:\n",
        "        arbitrary_types_allowed = True\n",
        "\n",
        "  def __init__(self, **data):\n",
        "        super().__init__(**data)\n",
        "        self.client = Groq(api_key=GROQ_API_KEY)\n",
        "\n",
        "  def obtener_texto(self, audio: Audio):\n",
        "        \"\"\"\n",
        "        Transcribes audio and returns the text.\n",
        "        \"\"\"\n",
        "\n",
        "        # Check if the file exists\n",
        "        if not os.path.exists(audio.audio_path):\n",
        "            return \"Error: The audio file could not be found. Please try again.\"\n",
        "\n",
        "        try:\n",
        "            # Open the OGG file and send it for transcription\n",
        "            with open(audio.audio_path, \"rb\") as audio_file:\n",
        "                transcription = self.client.audio.transcriptions.create(\n",
        "                    file=audio_file,\n",
        "                    model=\"whisper-large-v3-turbo\",\n",
        "                    language=\"es\",\n",
        "                    temperature=0.0\n",
        "                )\n",
        "                return transcription.text\n",
        "        except Exception:\n",
        "            # Return a generic error message for Streamlit\n",
        "            return \"An error occurred while processing the audio. Please try again.\""
      ],
      "metadata": {
        "id": "4iZe1LFNz-qb"
      },
      "execution_count": 62,
      "outputs": []
    },
    {
      "cell_type": "code",
      "source": [
        "stt = STT()\n",
        "\n",
        "# test\n",
        "\n",
        "audio_data = io.BytesIO()\n",
        "with open(\"temp.wav\", \"rb\") as f:\n",
        "    audio_data.write(f.read())\n",
        "audio_data.seek(0)\n",
        "\n",
        "audio1 = Audio(audio_bytes=audio_data)\n",
        "\n",
        "result = stt.obtener_texto(audio1)\n",
        "\n",
        "print(result)"
      ],
      "metadata": {
        "colab": {
          "base_uri": "https://localhost:8080/"
        },
        "id": "Dq9vYDDEv1XK",
        "outputId": "e1a8de87-de40-4055-ed17-1be2486da1f5"
      },
      "execution_count": null,
      "outputs": [
        {
          "output_type": "stream",
          "name": "stdout",
          "text": [
            "Converted to OGG: 7b3d6d91-aee0-458f-a3be-49dfe8f72855.ogg\n",
            " Hola, ¿qué tal? Hola, ¿qué tal?\n"
          ]
        }
      ]
    },
    {
      "cell_type": "markdown",
      "source": [
        "## Generation Talk"
      ],
      "metadata": {
        "id": "WILmICNwPWog"
      }
    },
    {
      "cell_type": "code",
      "source": [
        "import re\n",
        "\n",
        "class Talker():\n",
        "  prompt: str = generation_prompt\n",
        "  model: str = \"Meta-Llama-3.1-70B-Instruct\"\n",
        "  client: OpenAI = None\n",
        "\n",
        "  class Config:\n",
        "        arbitrary_types_allowed = True\n",
        "\n",
        "  def __init__(self, **data):\n",
        "        super().__init__(**data)\n",
        "        self.client = OpenAI(\n",
        "            base_url=\"https://api.sambanova.ai/v1/\",\n",
        "            api_key=SAMBANOVA_API_KEY,\n",
        "        )\n",
        "\n",
        "  def response(self, query):\n",
        "\n",
        "    completion = self.client.chat.completions.create(\n",
        "        model=self.model,\n",
        "        messages=[\n",
        "            {\n",
        "                \"role\": \"user\",\n",
        "                \"content\": self.prompt.format(topic=query),\n",
        "            }\n",
        "        ],\n",
        "        stream=False,\n",
        "    )\n",
        "\n",
        "    response = completion.choices[0].message.content\n",
        "\n",
        "    # Procesar el texto\n",
        "    resultado = extraer_contenido(response, \"resultado\")[0].strip()\n",
        "    dialogo = extraer_contenido(response, \"dialogo\")[0].strip()\n",
        "\n",
        "    # Procesar diálogos\n",
        "    orador1_dialogos, orador2_dialogos = procesar_dialogos(dialogo)\n",
        "\n",
        "    return resultado, orador1_dialogos, orador2_dialogos, response"
      ],
      "metadata": {
        "id": "NVMVZwn5iX2C"
      },
      "execution_count": 87,
      "outputs": []
    },
    {
      "cell_type": "code",
      "source": [
        "print(response)"
      ],
      "metadata": {
        "colab": {
          "base_uri": "https://localhost:8080/"
        },
        "id": "cgd4fccnqdfD",
        "outputId": "c127b497-ad32-48e3-fda0-29ed6b9417eb"
      },
      "execution_count": 106,
      "outputs": [
        {
          "output_type": "stream",
          "name": "stdout",
          "text": [
            "<planificacion_podcast>\n",
            "\n",
            "**Estructura del Podcast**\n",
            "\n",
            "**Tema:** Cáncer de mama en perras\n",
            "\n",
            "**Subtemas:**\n",
            "\n",
            "1.  **Causas y factores de riesgo**\n",
            "    *   Pregunta clave del Orador 2: ¿Cuáles son los principales factores de riesgo para que una perra desarrolle cáncer de mama?\n",
            "    *   Punto principal del Orador 1: Explicar cómo la genética, la edad y la condición reproductiva (como la esterilización) influyen en el riesgo de cáncer de mama en perras.\n",
            "    *   Anécdota o analogía: Comparar la importancia de la esterilización en perras con la práctica de la mastectomía preventiva en humanos para reducir el riesgo de cáncer de mama.\n",
            "    *   Tangentes interesantes o preguntas inusuales del Orador 2: ¿Cómo se compara el riesgo de cáncer de mama en perras con el de otros animales domésticos? ¿Hay alguna relación entre la alimentación y el riesgo de cáncer de mama en perras?\n",
            "2.  **Síntomas y diagnóstico**\n",
            "    *   Pregunta clave del Orador 2: ¿Cuáles son los síntomas más comunes del cáncer de mama en perras y cómo se diagnostica?\n",
            "    *   Punto principal del Orador 1: Describir los síntomas como bultos o cambios en las glándulas mamarias, y explicar los métodos de diagnóstico como la biopsia y la mamografía.\n",
            "    *   Anécdota o analogía: Ilustrar la importancia del diagnóstico temprano comparando el tratamiento del cáncer de mama en perras con el de los humanos, donde la detección temprana es crucial para la supervivencia.\n",
            "    *   Tangentes interesantes o preguntas inusuales del Orador 2: ¿Cómo se puede diferenciar un bulto benigno de uno maligno en las glándulas mamarias de una perra? ¿Existen pruebas de detección temprana para el cáncer de mama en perras?\n",
            "3.  **Tratamiento y manejo**\n",
            "    *   Pregunta clave del Orador 2: ¿Cuáles son las opciones de tratamiento para el cáncer de mama en perras y cómo se maneja la enfermedad?\n",
            "    *   Punto principal del Orador 1: Explicar las opciones de tratamiento como la cirugía, la quimioterapia y la radioterapia, y discutir la importancia del manejo del dolor y el cuidado paliativo.\n",
            "    *   Anécdota o analogía: Comparar el enfoque integral del tratamiento del cáncer de mama en perras con el enfoque en humanos, donde se consideran aspectos físicos, emocionales y de calidad de vida.\n",
            "    *   Tangentes interesantes o preguntas inusuales del Orador 2: ¿Cómo se decide el mejor plan de tratamiento para una perra con cáncer de mama? ¿Hay investigaciones en curso sobre nuevos tratamientos para el cáncer de mama en perras?\n",
            "4.  **Prevención y conciencia**\n",
            "    *   Pregunta clave del Orador 2: ¿Qué medidas pueden tomar los dueños de mascotas para prevenir o reducir el riesgo de cáncer de mama en sus perras?\n",
            "    *   Punto principal del Orador 1: Discutir la importancia de la esterilización, la alimentación saludable y los chequeos regulares para detectar cualquier problema de salud temprano.\n",
            "    *   Anécdota o analogía: Ilustrar la importancia de la prevención comparando el costo y el estrés de tratar el cáncer de mama en perras con los beneficios de la prevención a través de la esterilización y el cuidado regular.\n",
            "    *   Tangentes interesantes o preguntas inusuales del Orador 2: ¿Cómo se puede aumentar la conciencia sobre el cáncer de mama en perras entre los dueños de mascotas? ¿Existen campañas o eventos para apoyar la investigación y la prevención del cáncer de mama en perras?\n",
            "\n",
            "**Introducción atractiva:** El Orador 1 podría comenzar con una historia conmovedora de una perra que sobrevivió al cáncer de mama gracias a un diagnóstico temprano y un tratamiento efectivo, y luego presentar el tema del podcast.\n",
            "\n",
            "**Conclusión:** El Orador 1 podría resumir los puntos clave discutidos durante el podcast, enfatizando la importancia de la prevención, el diagnóstico temprano y el tratamiento adecuado para el cáncer de mama en perras.\n",
            "\n",
            "**Lugares para expresar confusión o pedir aclaraciones:**\n",
            "\n",
            "*   Después de la explicación de los factores de riesgo, el Orador 2 podría pedir aclaraciones sobre cómo la genética específicamente aumenta el riesgo.\n",
            "*   Durante la discusión sobre el diagnóstico, el Orador 2 podría expresar confusión sobre la diferencia entre una biopsia y una mamografía.\n",
            "*   Al discutir el tratamiento, el Orador 2 podría preguntar sobre las posibles complicaciones o efectos secundarios de la quimioterapia en perras.\n",
            "\n",
            "**Transiciones entre subtemas:**\n",
            "\n",
            "*   Después de discutir las causas y factores de riesgo, el Orador 1 podría transicionar a los síntomas y diagnóstico mencionando cómo entender los factores de riesgo es crucial para reconocer los síntomas tempranos.\n",
            "*   Al pasar del diagnóstico al tratamiento, el Orador 1 podría enfatizar que un diagnóstico preciso es esencial para determinar el mejor plan de tratamiento.\n",
            "*   De la sección de tratamiento a la prevención, el Orador 1 podría remarcar que la prevención es la mejor forma de tratamiento y discutir cómo las medidas preventivas pueden reducir significativamente el riesgo de cáncer de mama en perras.\n",
            "\n",
            "</planificacion_podcast>\n",
            "\n",
            "<resultado>\n",
            "\n",
            "**Cáncer de Mama en Perras: Una Guía Completa**\n",
            "\n",
            "El cáncer de mama es una de las formas más comunes de cáncer en perras, y su incidencia varía según la raza, la edad y la condición reproductiva. Aunque no hay una causa única para el cáncer de mama en perras, se sabe que factores como la genética, la edad y la condición reproductiva juegan un papel importante en el desarrollo de la enfermedad.\n",
            "\n",
            "**Causas y Factores de Riesgo**\n",
            "\n",
            "*   La genética es un factor importante en el desarrollo del cáncer de mama en perras. Algunas razas, como los Cocker Spaniels y los Poodles, tienen un mayor riesgo de desarrollar la enfermedad.\n",
            "*   La edad también es un factor de riesgo. Las perras mayores de 7 años tienen un mayor riesgo de desarrollar cáncer de mama.\n",
            "*   La condición reproductiva también juega un papel importante. Las perras que no han sido esterilizadas tienen un mayor riesgo de desarrollar cáncer de mama.\n",
            "\n",
            "**Síntomas y Diagnóstico**\n",
            "\n",
            "*   Los síntomas más comunes del cáncer de mama en perras incluyen bultos o cambios en las glándulas mamarias.\n",
            "*   El diagnóstico se realiza mediante una biopsia o una mamografía.\n",
            "*   Es importante detectar la enfermedad temprano para aumentar las posibilidades de supervivencia.\n",
            "\n",
            "**Tratamiento y Manejo**\n",
            "\n",
            "*   El tratamiento del cáncer de mama en perras depende del estadio de la enfermedad y de la salud general de la perra.\n",
            "*   Las opciones de tratamiento incluyen la cirugía, la quimioterapia y la radioterapia.\n",
            "*   Es importante manejar el dolor y la calidad de vida de la perra durante el tratamiento.\n",
            "\n",
            "**Prevención y Conciencia**\n",
            "\n",
            "*   La prevención es la mejor forma de tratamiento. Las medidas preventivas incluyen la esterilización, la alimentación saludable y los chequeos regulares.\n",
            "*   Es importante aumentar la conciencia sobre el cáncer de mama en perras entre los dueños de mascotas.\n",
            "*   Las campañas y eventos para apoyar la investigación y la prevención del cáncer de mama en perras son fundamentales para reducir la incidencia de la enfermedad.\n",
            "\n",
            "</resultado>\n",
            "\n",
            "<dialogo>\n",
            "\n",
            "Orador 1: Bienvenidos a nuestro podcast de hoy, donde vamos a hablar sobre un tema muy importante para los dueños de mascotas: el cáncer de mama en perras. Me acompaña el Dr. Juan Pérez, un experto en medicina veterinaria. Dr. Pérez, gracias por unirse a nosotros hoy.\n",
            "\n",
            "Orador 2: Gracias por tenerme. Es un placer hablar sobre este tema tan importante.\n",
            "\n",
            "Orador 1: Empecemos con las causas y factores de riesgo del cáncer de mama en perras. ¿Cuáles son los principales factores de riesgo para que una perra desarrolle cáncer de mama?\n",
            "\n",
            "Orador 2: Bueno, la genética es un factor importante. Algunas razas, como los Cocker Spaniels y los Poodles, tienen un mayor riesgo de desarrollar la enfermedad. La edad también es un factor de riesgo. Las perras mayores de 7 años tienen un mayor riesgo de desarrollar cáncer de mama. Y la condición reproductiva también juega un papel importante. Las perras que no han sido esterilizadas tienen un mayor riesgo de desarrollar cáncer de mama.\n",
            "\n",
            "Orador 1: Eso es muy interesante. ¿Cómo se compara el riesgo de cáncer de mama en perras con el de otros animales domésticos?\n",
            "\n",
            "Orador 2: Bueno, el cáncer de mama es más común en perras que en otros animales domésticos. Sin embargo, es importante destacar que el riesgo de cáncer de mama en perras es significativamente mayor que en humanos.\n",
            "\n",
            "Orador 1: ¿Cuáles son los síntomas más comunes del cáncer de mama en perras?\n",
            "\n",
            "Orador 2: Los síntomas más comunes incluyen bultos o cambios en las glándulas mamarias. Es importante detectar la enfermedad temprano para aumentar las posibilidades de supervivencia.\n",
            "\n",
            "Orador 1: ¿Cómo se diagnostica el cáncer de mama en perras?\n",
            "\n",
            "Orador 2: El diagnóstico se realiza mediante una biopsia o una mamografía. Es importante realizar pruebas de detección temprana para detectar la enfermedad en sus primeras etapas.\n",
            "\n",
            "Orador 1: ¿Cuáles son las opciones de tratamiento para el cáncer de mama en perras?\n",
            "\n",
            "Orador 2: Las opciones de tratamiento dependen del estadio de la enfermedad y de la salud general de la perra. Las opciones de tratamiento incluyen la cirugía, la quimioterapia y la radioterapia. Es importante manejar el dolor y la calidad de vida de la perra durante el tratamiento.\n",
            "\n",
            "Orador 1: ¿Cómo se puede prevenir el cáncer de mama en perras?\n",
            "\n",
            "Orador 2: La prevención es la mejor forma de tratamiento. Las medidas preventivas incluyen la esterilización, la alimentación saludable y los chequeos regulares. Es importante aumentar la conciencia sobre el cáncer de mama en perras entre los dueños de mascotas.\n",
            "\n",
            "Orador 1: Gracias, Dr. Pérez, por compartir su conocimiento con nosotros hoy. Es importante que los dueños de mascotas estén informados sobre el cáncer de mama en perras para poder tomar medidas preventivas y detectar la enfermedad temprano.\n",
            "\n",
            "Orador 2: Gracias por tenerme. Es un placer hablar sobre este tema tan importante.\n",
            "\n",
            "Orador 1: Y gracias a nuestros oyentes por unirse a nosotros hoy. No olviden compartir este podcast con sus amigos y familiares que tienen mascotas. ¡Hasta la próxima!\n",
            "\n",
            "</dialogo>\n"
          ]
        }
      ]
    },
    {
      "cell_type": "code",
      "source": [
        "# test\n",
        "\n",
        "talker = Talker()\n",
        "\n",
        "resultado, orador1_dialogos, orador2_dialogos, response = talker.response(\"cancer de mama en perras\")"
      ],
      "metadata": {
        "id": "ICaHMqBEooGy"
      },
      "execution_count": 103,
      "outputs": []
    },
    {
      "cell_type": "markdown",
      "source": [
        "## Output"
      ],
      "metadata": {
        "id": "xM1SXCI80CYL"
      }
    },
    {
      "cell_type": "code",
      "source": [
        "from gtts import gTTS\n",
        "from pydub import AudioSegment\n",
        "from pydub.playback import play\n",
        "import IPython"
      ],
      "metadata": {
        "id": "MhQlLEsYWGRJ"
      },
      "execution_count": 77,
      "outputs": []
    },
    {
      "cell_type": "code",
      "source": [
        "class TTS(BaseModel):\n",
        "  client: gTTS = Field(default=gTTS)\n",
        "\n",
        "  class Config:\n",
        "        arbitrary_types_allowed = True\n",
        "\n",
        "  def generar_audio_text(self, text):\n",
        "        \"\"\"\n",
        "        Reads text\n",
        "        \"\"\"\n",
        "        tts = self.client(text, lang='es', tld='es')\n",
        "\n",
        "        fp = io.BytesIO()\n",
        "        tts.write_to_fp(fp)\n",
        "        # fp.seek(0)\n",
        "\n",
        "        return Audio(audio_bytes=fp, input_format=\"mp3\")\n",
        "\n",
        "  def generar_audio(self, texto, tld='com.mx', velocidad=1.0):\n",
        "\n",
        "        \"\"\"Genera un fragmento de audio a partir de texto.\"\"\"\n",
        "        tts = gTTS(text=texto, lang=\"es\", tld=tld, slow=False)\n",
        "        tts_file = \"temp.mp3\"\n",
        "        tts.save(tts_file)\n",
        "        audio = AudioSegment.from_file(tts_file)\n",
        "        # Ajustar velocidad del audio\n",
        "        return audio.speedup(playback_speed=velocidad)\n",
        "\n",
        "  def generar_conversacion(self, id=str(uuid.uuid4()), orador1_dialogos=[], orador2_dialogos=[], velocidad=1.0, pausa_ms=500, idioma='es'):\n",
        "    \"\"\"\n",
        "    Genera un audio combinado de una conversación entre dos oradores.\n",
        "\n",
        "    Args:\n",
        "        orador1_dialogos (list): Lista de diálogos de Orador 1.\n",
        "        orador2_dialogos (list): Lista de diálogos de Orador 2.\n",
        "        velocidad (float): Velocidad del habla (1.0 es la velocidad normal, >1.0 más rápido, <1.0 más lento).\n",
        "        pausa_ms (int): Tiempo de pausa entre los diálogos en milisegundos.\n",
        "        idioma (str): Idioma para gTTS (por defecto 'es' para español).\n",
        "\n",
        "    Returns:\n",
        "        None: Genera un archivo de audio llamado 'conversacion_completa.mp3'.\n",
        "    \"\"\"\n",
        "\n",
        "    if len(orador1_dialogos)>1 and len(orador2_dialogos)>1:\n",
        "\n",
        "      # Crear audio final fusionado\n",
        "      audio_final = AudioSegment.silent(duration=0)  # Inicializar audio vacío\n",
        "\n",
        "      # Alternar entre los diálogos de ambos oradores\n",
        "      for o1, o2 in zip(orador1_dialogos, orador2_dialogos):\n",
        "          audio_final += self.generar_audio(o1, 'us', velocidad)\n",
        "          audio_final += AudioSegment.silent(duration=pausa_ms)  # Pausa entre oradores\n",
        "          audio_final += self.generar_audio(o2, 'es', velocidad)\n",
        "          audio_final += AudioSegment.silent(duration=pausa_ms)  # Pausa entre oradores\n",
        "\n",
        "      # Si Orador 1 tiene más diálogos, añadir los restantes\n",
        "      for i in range(len(orador2_dialogos), len(orador1_dialogos)):\n",
        "          audio_final += self.generar_audio(orador1_dialogos[i])\n",
        "          audio_final += AudioSegment.silent(duration=pausa_ms)  # Pausa entre oradores\n",
        "\n",
        "      # Guardar el audio combinado\n",
        "      audio_final.export(id+\".mp3\", format=\"mp3\")\n",
        "\n",
        "      return id+\".mp3\"\n"
      ],
      "metadata": {
        "id": "MUQsw503xZQF"
      },
      "execution_count": 99,
      "outputs": []
    },
    {
      "cell_type": "code",
      "source": [
        "# Test\n",
        "tts = TTS()\n",
        "\n",
        "tts.generar_conversacion(orador1_dialogos=orador1_dialogos, orador2_dialogos=orador2_dialogos, velocidad=1.2)"
      ],
      "metadata": {
        "colab": {
          "base_uri": "https://localhost:8080/",
          "height": 53
        },
        "id": "ytpwukMNGSxk",
        "outputId": "7aeb045b-276a-4d13-8689-5d5e1bb34c62"
      },
      "execution_count": 104,
      "outputs": [
        {
          "output_type": "stream",
          "name": "stdout",
          "text": [
            "ok\n"
          ]
        },
        {
          "output_type": "execute_result",
          "data": {
            "text/plain": [
              "'267ca8d6-9c96-4006-808b-480e4b82c894.mp3'"
            ],
            "application/vnd.google.colaboratory.intrinsic+json": {
              "type": "string"
            }
          },
          "metadata": {},
          "execution_count": 104
        }
      ]
    },
    {
      "cell_type": "code",
      "source": [],
      "metadata": {
        "id": "iBcqXh7eG-yK"
      },
      "execution_count": null,
      "outputs": []
    }
  ]
}